{
 "cells": [
  {
   "cell_type": "markdown",
   "id": "35037132",
   "metadata": {},
   "source": [
    "### 네이버 쇼핑 키워드 인사이트\n",
    "\n",
    "#### 개인과제\n",
    "- 키워드에 대한 검색량 데이터 수집\n",
    "- 검색어에 대한 상품등록수 수집\n",
    "- 수집한 데이터에 대한 인사이트 도출 : 예시) 경쟁률\n",
    "\n",
    "#### 조별과제\n",
    "- 스마트 스토어를 운영한다고 생각하고 경쟁력이 낮으면서 많은 수익을 낼수 있는 키워드와 상품 찾기\n",
    "    - 예시외의 추가적인 페이지 데이터 수집하여 프로젝트 수행가능"
   ]
  },
  {
   "cell_type": "markdown",
   "id": "171b691d",
   "metadata": {},
   "source": [
    "#### 참고 서비스\n",
    "- 신사임당 유투브 : https://youtu.be/Z0hL9khbpIw\n",
    "- 응용 서비스 : https://whereispost.com/keyword, https://itemscout.io"
   ]
  },
  {
   "cell_type": "markdown",
   "id": "78c32252",
   "metadata": {},
   "source": [
    "#### 데이터 수집 프로세스\n",
    "1. 네이버 검색광고 회원가입 및 로그인 : https://searchad.naver.com\n",
    "2. 광고 시스템 > 도구 > API 사용관리\n",
    "3. CUSTOMER_ID, API_KEY, SECRET_KEY 획득\n",
    "4. 네이버 검색 광고 API 매뉴얼 사이트 참고 : http://naver.github.io/searchad-apidoc/#/guides\n",
    "5. github 페이지 참고\n",
    "    - https://github.com/naver/searchad-apidoc\n",
    "    - https://github.com/naver/searchad-apidoc/blob/master/python-sample/examples/ad_management_sample.py\n",
    "6. 키워드 입력하면 해당 키워드에 대한 데이터 수집"
   ]
  },
  {
   "cell_type": "code",
   "execution_count": 1,
   "id": "1dc86352",
   "metadata": {
    "ExecuteTime": {
     "end_time": "2022-02-25T03:15:43.543402Z",
     "start_time": "2022-02-25T03:15:43.541041Z"
    }
   },
   "outputs": [],
   "source": [
    "BASE_URL = 'https://api.naver.com'\n",
    "API_KEY = '01000000000fcd1ce283f84b5b3f32330368ac6dce35c5a8e3feabf4cfec31ae32b7e9d0e8'\n",
    "SECRET_KEY = 'AQAAAAAPzRzig/hLWz8yMwNorG3OPks1JGYBp40Ib+rqqydacA=='\n",
    "CUSTOMER_ID = '2488417'"
   ]
  },
  {
   "cell_type": "code",
   "execution_count": 2,
   "id": "9a5ad3b5",
   "metadata": {
    "ExecuteTime": {
     "end_time": "2022-02-25T03:15:43.588167Z",
     "start_time": "2022-02-25T03:15:43.545325Z"
    }
   },
   "outputs": [],
   "source": [
    "import time\n",
    "import random\n",
    "import requests\n",
    "\n",
    "import signaturehelper\n",
    "\n",
    "\n",
    "def get_header(method, uri, api_key, secret_key, customer_id):\n",
    "    timestamp = str(round(time.time() * 1000))\n",
    "    signature = signaturehelper.Signature.generate(timestamp, method, uri, SECRET_KEY)\n",
    "    return {'Content-Type': 'application/json; charset=UTF-8', 'X-Timestamp': timestamp, 'X-API-KEY': API_KEY, 'X-Customer': str(CUSTOMER_ID), 'X-Signature': signature}"
   ]
  },
  {
   "cell_type": "code",
   "execution_count": 3,
   "id": "5b1d5416",
   "metadata": {
    "ExecuteTime": {
     "end_time": "2022-02-25T03:15:43.606513Z",
     "start_time": "2022-02-25T03:15:43.589436Z"
    }
   },
   "outputs": [],
   "source": [
    "import hashlib\n",
    "import hmac\n",
    "import base64\n",
    "\n",
    "\n",
    "class Signature:\n",
    "\n",
    "    @staticmethod\n",
    "    def generate(timestamp, method, uri, secret_key):\n",
    "        message = \"{}.{}.{}\".format(timestamp, method, uri)\n",
    "        hash = hmac.new(bytes(secret_key, \"utf-8\"), bytes(message, \"utf-8\"), hashlib.sha256)\n",
    "\n",
    "        hash.hexdigest()\n",
    "        return base64.b64encode(hash.digest())\n"
   ]
  },
  {
   "cell_type": "markdown",
   "id": "825fab2d",
   "metadata": {},
   "source": [
    "- hint\n",
    "    - github 페이지의 코드에서 signaturehelper.py 파일을 이용하여 header를 만들어야 합니다."
   ]
  },
  {
   "cell_type": "code",
   "execution_count": 4,
   "id": "1d3ec014",
   "metadata": {
    "ExecuteTime": {
     "end_time": "2022-02-25T03:15:44.065088Z",
     "start_time": "2022-02-25T03:15:43.607483Z"
    }
   },
   "outputs": [],
   "source": [
    "import requests, json, time\n",
    "import pandas as pd\n",
    "import signaturehelper\n",
    "import warnings\n",
    "warnings.filterwarnings('ignore')"
   ]
  },
  {
   "cell_type": "markdown",
   "id": "f49ba7aa",
   "metadata": {},
   "source": [
    "#### 1. 개별과제 : 키워드에 대한 검색량 데이터 수집"
   ]
  },
  {
   "cell_type": "code",
   "execution_count": 5,
   "id": "e62b720c",
   "metadata": {
    "ExecuteTime": {
     "end_time": "2022-02-25T03:15:44.069086Z",
     "start_time": "2022-02-25T03:15:44.066871Z"
    }
   },
   "outputs": [],
   "source": [
    "#키워드 리스트에서 키워드 상세정보들을 datas리스트에 저장합니다.\n",
    "def keyword_master(keywords):\n",
    "    datas =[]\n",
    "    for keyword in keywords:\n",
    "        uri = '/keywordstool'\n",
    "        method = 'GET'\n",
    "        r = requests.get(BASE_URL + uri+f'?hintKeywords={keyword}&showDetail=1',\n",
    "                         headers=get_header(method, uri, API_KEY, SECRET_KEY, CUSTOMER_ID))\n",
    "        datas.append(r.json()['keywordList'][0])\n",
    "    return datas"
   ]
  },
  {
   "cell_type": "code",
   "execution_count": 6,
   "id": "cbc0ef81",
   "metadata": {
    "ExecuteTime": {
     "end_time": "2022-02-25T03:15:44.473017Z",
     "start_time": "2022-02-25T03:15:44.069708Z"
    },
    "scrolled": true
   },
   "outputs": [],
   "source": [
    "#검색 키워드 작성\n",
    "df = keyword_master([\"헬스보충제\",'모짜렐라치즈','자전거'])\n",
    "#키워드들에 대한 세부정보 호출\n",
    "keyword_df = pd.DataFrame(df)"
   ]
  },
  {
   "cell_type": "markdown",
   "id": "caf9747a",
   "metadata": {},
   "source": [
    "## 결과"
   ]
  },
  {
   "cell_type": "code",
   "execution_count": 7,
   "id": "eab02e90",
   "metadata": {
    "ExecuteTime": {
     "end_time": "2022-02-25T03:15:44.496954Z",
     "start_time": "2022-02-25T03:15:44.475183Z"
    }
   },
   "outputs": [
    {
     "data": {
      "text/html": [
       "<div>\n",
       "<style scoped>\n",
       "    .dataframe tbody tr th:only-of-type {\n",
       "        vertical-align: middle;\n",
       "    }\n",
       "\n",
       "    .dataframe tbody tr th {\n",
       "        vertical-align: top;\n",
       "    }\n",
       "\n",
       "    .dataframe thead th {\n",
       "        text-align: right;\n",
       "    }\n",
       "</style>\n",
       "<table border=\"1\" class=\"dataframe\">\n",
       "  <thead>\n",
       "    <tr style=\"text-align: right;\">\n",
       "      <th></th>\n",
       "      <th>relKeyword</th>\n",
       "      <th>monthlyPcQcCnt</th>\n",
       "      <th>monthlyMobileQcCnt</th>\n",
       "      <th>monthlyAvePcClkCnt</th>\n",
       "      <th>monthlyAveMobileClkCnt</th>\n",
       "      <th>monthlyAvePcCtr</th>\n",
       "      <th>monthlyAveMobileCtr</th>\n",
       "      <th>plAvgDepth</th>\n",
       "      <th>compIdx</th>\n",
       "    </tr>\n",
       "  </thead>\n",
       "  <tbody>\n",
       "    <tr>\n",
       "      <th>0</th>\n",
       "      <td>헬스보충제</td>\n",
       "      <td>1270</td>\n",
       "      <td>6970</td>\n",
       "      <td>19.7</td>\n",
       "      <td>191.7</td>\n",
       "      <td>1.80</td>\n",
       "      <td>3.17</td>\n",
       "      <td>15</td>\n",
       "      <td>높음</td>\n",
       "    </tr>\n",
       "    <tr>\n",
       "      <th>1</th>\n",
       "      <td>모짜렐라치즈</td>\n",
       "      <td>3150</td>\n",
       "      <td>30100</td>\n",
       "      <td>5.1</td>\n",
       "      <td>37.3</td>\n",
       "      <td>0.19</td>\n",
       "      <td>0.14</td>\n",
       "      <td>15</td>\n",
       "      <td>높음</td>\n",
       "    </tr>\n",
       "    <tr>\n",
       "      <th>2</th>\n",
       "      <td>자전거</td>\n",
       "      <td>36100</td>\n",
       "      <td>145400</td>\n",
       "      <td>171.7</td>\n",
       "      <td>1851.8</td>\n",
       "      <td>0.53</td>\n",
       "      <td>1.40</td>\n",
       "      <td>15</td>\n",
       "      <td>높음</td>\n",
       "    </tr>\n",
       "  </tbody>\n",
       "</table>\n",
       "</div>"
      ],
      "text/plain": [
       "  relKeyword  monthlyPcQcCnt  monthlyMobileQcCnt  monthlyAvePcClkCnt  \\\n",
       "0      헬스보충제            1270                6970                19.7   \n",
       "1     모짜렐라치즈            3150               30100                 5.1   \n",
       "2        자전거           36100              145400               171.7   \n",
       "\n",
       "   monthlyAveMobileClkCnt  monthlyAvePcCtr  monthlyAveMobileCtr  plAvgDepth  \\\n",
       "0                   191.7             1.80                 3.17          15   \n",
       "1                    37.3             0.19                 0.14          15   \n",
       "2                  1851.8             0.53                 1.40          15   \n",
       "\n",
       "  compIdx  \n",
       "0      높음  \n",
       "1      높음  \n",
       "2      높음  "
      ]
     },
     "execution_count": 7,
     "metadata": {},
     "output_type": "execute_result"
    }
   ],
   "source": [
    "keyword_df.head()"
   ]
  },
  {
   "cell_type": "markdown",
   "id": "e4e07971",
   "metadata": {},
   "source": [
    "#### 2. 개별과제 : 검색어에 대한 상품등록수 수집\n",
    "- item_count : 등록된 상품수\n",
    "- total_search_count : PC, Mobile 을 합친 검색량"
   ]
  },
  {
   "cell_type": "code",
   "execution_count": 8,
   "id": "b6350386",
   "metadata": {
    "ExecuteTime": {
     "end_time": "2022-02-25T03:15:44.570111Z",
     "start_time": "2022-02-25T03:15:44.498735Z"
    }
   },
   "outputs": [],
   "source": [
    "from bs4 import BeautifulSoup as bs"
   ]
  },
  {
   "cell_type": "code",
   "execution_count": 9,
   "id": "9460310a",
   "metadata": {
    "ExecuteTime": {
     "end_time": "2022-02-25T03:15:44.575235Z",
     "start_time": "2022-02-25T03:15:44.571898Z"
    }
   },
   "outputs": [],
   "source": [
    "def item_count(keywords):\n",
    "    #데이터 프레임화하기 위한 리스트변수\n",
    "    datas = []\n",
    "    counts = []\n",
    "    #예외 처리\n",
    "    if type(keywords) is not list:\n",
    "        print(\"리스트 형식으로 입력하세요\")\n",
    "        return\n",
    "    \n",
    "    #전체 상품 수 크롤링\n",
    "    for keyword in keywords:\n",
    "        url = f'https://search.shopping.naver.com/search/all?query={keyword}'\n",
    "        response = requests.get(url)\n",
    "        dom = bs(response.text,\"html.parser\")\n",
    "        element = dom.select('.seller_filter_area > ul > li > a > span')[0].text.replace(',','')\n",
    "        counts.append(element)\n",
    "    \n",
    "    #키워드 리스트 디테일 정보 추출\n",
    "    details = keyword_master(keywords)\n",
    "    \n",
    "    #디테일 정보 부분화\n",
    "    for i in range(len(details)):\n",
    "        datas.append({\n",
    "            'keyword' : details[i]['relKeyword'],\n",
    "            'monthlyPcQcCnt' : details[i]['monthlyPcQcCnt'],\n",
    "            'monthlyMobileQcCnt' : details[i]['monthlyMobileQcCnt'],\n",
    "            'total_serch_count' : int(details[i]['monthlyPcQcCnt'])+int(details[i]['monthlyMobileQcCnt']),\n",
    "            'item_count' : counts[i]\n",
    "        })\n",
    "    return datas"
   ]
  },
  {
   "cell_type": "code",
   "execution_count": 10,
   "id": "beb9f62c",
   "metadata": {
    "ExecuteTime": {
     "end_time": "2022-02-25T03:15:46.935418Z",
     "start_time": "2022-02-25T03:15:44.576059Z"
    }
   },
   "outputs": [],
   "source": [
    "result_df = pd.DataFrame(item_count(['실내자전거','스피닝자전거','덤벨']))"
   ]
  },
  {
   "cell_type": "markdown",
   "id": "63fd9884",
   "metadata": {},
   "source": [
    "## 결과 "
   ]
  },
  {
   "cell_type": "code",
   "execution_count": 11,
   "id": "cbd131f9",
   "metadata": {
    "ExecuteTime": {
     "end_time": "2022-02-25T03:15:46.947713Z",
     "start_time": "2022-02-25T03:15:46.937025Z"
    }
   },
   "outputs": [
    {
     "data": {
      "text/html": [
       "<div>\n",
       "<style scoped>\n",
       "    .dataframe tbody tr th:only-of-type {\n",
       "        vertical-align: middle;\n",
       "    }\n",
       "\n",
       "    .dataframe tbody tr th {\n",
       "        vertical-align: top;\n",
       "    }\n",
       "\n",
       "    .dataframe thead th {\n",
       "        text-align: right;\n",
       "    }\n",
       "</style>\n",
       "<table border=\"1\" class=\"dataframe\">\n",
       "  <thead>\n",
       "    <tr style=\"text-align: right;\">\n",
       "      <th></th>\n",
       "      <th>keyword</th>\n",
       "      <th>monthlyPcQcCnt</th>\n",
       "      <th>monthlyMobileQcCnt</th>\n",
       "      <th>total_serch_count</th>\n",
       "      <th>item_count</th>\n",
       "    </tr>\n",
       "  </thead>\n",
       "  <tbody>\n",
       "    <tr>\n",
       "      <th>0</th>\n",
       "      <td>실내자전거</td>\n",
       "      <td>19400</td>\n",
       "      <td>163400</td>\n",
       "      <td>182800</td>\n",
       "      <td>255191</td>\n",
       "    </tr>\n",
       "    <tr>\n",
       "      <th>1</th>\n",
       "      <td>스피닝자전거</td>\n",
       "      <td>2330</td>\n",
       "      <td>24200</td>\n",
       "      <td>26530</td>\n",
       "      <td>63133</td>\n",
       "    </tr>\n",
       "    <tr>\n",
       "      <th>2</th>\n",
       "      <td>덤벨</td>\n",
       "      <td>7680</td>\n",
       "      <td>45500</td>\n",
       "      <td>53180</td>\n",
       "      <td>495822</td>\n",
       "    </tr>\n",
       "  </tbody>\n",
       "</table>\n",
       "</div>"
      ],
      "text/plain": [
       "  keyword  monthlyPcQcCnt  monthlyMobileQcCnt  total_serch_count item_count\n",
       "0   실내자전거           19400              163400             182800     255191\n",
       "1  스피닝자전거            2330               24200              26530      63133\n",
       "2      덤벨            7680               45500              53180     495822"
      ]
     },
     "execution_count": 11,
     "metadata": {},
     "output_type": "execute_result"
    }
   ],
   "source": [
    "result_df"
   ]
  },
  {
   "cell_type": "markdown",
   "id": "8562cbc5",
   "metadata": {},
   "source": [
    "#### 3. 개별과제 : 경쟁률\n",
    "- 아이템수/검색수 : 높을수록 경쟁이 심한 상품 키워드 : **기본**\n",
    "- 수집된 데이터에서 추가로 얻을수 있는 인사이트 추가 : **추가(1개 이상)**\n",
    "    - 논리적인 인사이트이면 인사이트 수준에 대한 평가는 하지 않음"
   ]
  },
  {
   "cell_type": "code",
   "execution_count": 12,
   "id": "aaa90553",
   "metadata": {
    "ExecuteTime": {
     "end_time": "2022-02-25T03:15:46.956997Z",
     "start_time": "2022-02-25T03:15:46.949843Z"
    }
   },
   "outputs": [],
   "source": [
    "def item_count_compite(keywords):\n",
    "    #데이터 프레임화하기 위한 리스트변수\n",
    "    datas = []\n",
    "    counts = []\n",
    "    #예외 처리\n",
    "    if type(keywords) is not list:\n",
    "        print(\"리스트 형식으로 입력하세요\")\n",
    "        return\n",
    "    \n",
    "    #전체 상품 수 크롤링\n",
    "    for keyword in keywords:\n",
    "        url = f'https://search.shopping.naver.com/search/all?query={keyword}'\n",
    "        response = requests.get(url)\n",
    "        dom = bs(response.text,\"html.parser\")\n",
    "        element = dom.select('.seller_filter_area > ul > li > a > span')[0].text.replace(',','')\n",
    "        counts.append(element)\n",
    "    \n",
    "    #키워드 리스트 디테일 정보 추출\n",
    "    details = keyword_master(keywords)\n",
    "    \n",
    "    #디테일 정보 부분화\n",
    "    for i in range(len(details)):\n",
    "        datas.append({\n",
    "            'keyword' : details[i]['relKeyword'],\n",
    "            'monthlyPcQcCnt' : details[i]['monthlyPcQcCnt'],\n",
    "            'monthlyMobileQcCnt' : details[i]['monthlyMobileQcCnt'],\n",
    "            'total_serch_count' : int(details[i]['monthlyPcQcCnt'])+int(details[i]['monthlyMobileQcCnt']),\n",
    "            'item_count' : counts[i],\n",
    "            'competition_rate' :   (int(counts[i])) / (int(details[i]['monthlyPcQcCnt'])+int(details[i]['monthlyMobileQcCnt'])),\n",
    "        })\n",
    "    return datas"
   ]
  },
  {
   "cell_type": "code",
   "execution_count": 13,
   "id": "641d9f79",
   "metadata": {
    "ExecuteTime": {
     "end_time": "2022-02-25T03:15:50.571062Z",
     "start_time": "2022-02-25T03:15:46.959036Z"
    }
   },
   "outputs": [],
   "source": [
    "result = item_count_compite(['실내자전거','스피닝자전거','덤벨','딥다라인','실내자전거렌탈'])"
   ]
  },
  {
   "cell_type": "code",
   "execution_count": 14,
   "id": "a3fefe68",
   "metadata": {
    "ExecuteTime": {
     "end_time": "2022-02-25T03:15:50.586907Z",
     "start_time": "2022-02-25T03:15:50.573663Z"
    }
   },
   "outputs": [
    {
     "data": {
      "text/html": [
       "<div>\n",
       "<style scoped>\n",
       "    .dataframe tbody tr th:only-of-type {\n",
       "        vertical-align: middle;\n",
       "    }\n",
       "\n",
       "    .dataframe tbody tr th {\n",
       "        vertical-align: top;\n",
       "    }\n",
       "\n",
       "    .dataframe thead th {\n",
       "        text-align: right;\n",
       "    }\n",
       "</style>\n",
       "<table border=\"1\" class=\"dataframe\">\n",
       "  <thead>\n",
       "    <tr style=\"text-align: right;\">\n",
       "      <th></th>\n",
       "      <th>keyword</th>\n",
       "      <th>monthlyPcQcCnt</th>\n",
       "      <th>monthlyMobileQcCnt</th>\n",
       "      <th>total_serch_count</th>\n",
       "      <th>item_count</th>\n",
       "      <th>competition_rate</th>\n",
       "    </tr>\n",
       "  </thead>\n",
       "  <tbody>\n",
       "    <tr>\n",
       "      <th>0</th>\n",
       "      <td>실내자전거</td>\n",
       "      <td>19400</td>\n",
       "      <td>163400</td>\n",
       "      <td>182800</td>\n",
       "      <td>255191</td>\n",
       "      <td>1.396012</td>\n",
       "    </tr>\n",
       "    <tr>\n",
       "      <th>1</th>\n",
       "      <td>스피닝자전거</td>\n",
       "      <td>2330</td>\n",
       "      <td>24200</td>\n",
       "      <td>26530</td>\n",
       "      <td>63129</td>\n",
       "      <td>2.379533</td>\n",
       "    </tr>\n",
       "    <tr>\n",
       "      <th>2</th>\n",
       "      <td>덤벨</td>\n",
       "      <td>7680</td>\n",
       "      <td>45500</td>\n",
       "      <td>53180</td>\n",
       "      <td>495822</td>\n",
       "      <td>9.323467</td>\n",
       "    </tr>\n",
       "    <tr>\n",
       "      <th>3</th>\n",
       "      <td>딥다라인</td>\n",
       "      <td>330</td>\n",
       "      <td>3850</td>\n",
       "      <td>4180</td>\n",
       "      <td>55</td>\n",
       "      <td>0.013158</td>\n",
       "    </tr>\n",
       "    <tr>\n",
       "      <th>4</th>\n",
       "      <td>실내자전거렌탈</td>\n",
       "      <td>90</td>\n",
       "      <td>750</td>\n",
       "      <td>840</td>\n",
       "      <td>597</td>\n",
       "      <td>0.710714</td>\n",
       "    </tr>\n",
       "  </tbody>\n",
       "</table>\n",
       "</div>"
      ],
      "text/plain": [
       "   keyword  monthlyPcQcCnt  monthlyMobileQcCnt  total_serch_count item_count  \\\n",
       "0    실내자전거           19400              163400             182800     255191   \n",
       "1   스피닝자전거            2330               24200              26530      63129   \n",
       "2       덤벨            7680               45500              53180     495822   \n",
       "3     딥다라인             330                3850               4180         55   \n",
       "4  실내자전거렌탈              90                 750                840        597   \n",
       "\n",
       "   competition_rate  \n",
       "0          1.396012  \n",
       "1          2.379533  \n",
       "2          9.323467  \n",
       "3          0.013158  \n",
       "4          0.710714  "
      ]
     },
     "execution_count": 14,
     "metadata": {},
     "output_type": "execute_result"
    }
   ],
   "source": [
    "result_df = pd.DataFrame(result)\n",
    "result_df"
   ]
  },
  {
   "cell_type": "code",
   "execution_count": 15,
   "id": "f6462152",
   "metadata": {
    "ExecuteTime": {
     "end_time": "2022-02-25T03:15:50.591248Z",
     "start_time": "2022-02-25T03:15:50.588753Z"
    }
   },
   "outputs": [],
   "source": [
    "# 딥다라인, 실내자전거렌탈의 키워드가 경쟁령이 낮다."
   ]
  },
  {
   "cell_type": "code",
   "execution_count": null,
   "id": "6a8ee6df",
   "metadata": {},
   "outputs": [],
   "source": []
  },
  {
   "cell_type": "markdown",
   "id": "54d12ec8",
   "metadata": {},
   "source": [
    "#### 4. 조별과제 : 스마트 스토어를 운영한다고 생각하고 경쟁력이 낮으면서 많은 수익을 낼수 있는 키워드 찾기\n",
    "- 정답이 있는것은 아닙니다\n",
    "- 여러가지 가정과 데이터를 수집, 분석하여 판매할 상품과 키워드를 선정해 보시면 됩니다.\n",
    "- 앞서 2일간 했던 프로젝트와 같은 방법으로 수행하시면 됩니다."
   ]
  },
  {
   "cell_type": "markdown",
   "id": "d084960f",
   "metadata": {},
   "source": []
  }
 ],
 "metadata": {
  "kernelspec": {
   "display_name": "Python 3 (ipykernel)",
   "language": "python",
   "name": "python3"
  },
  "language_info": {
   "codemirror_mode": {
    "name": "ipython",
    "version": 3
   },
   "file_extension": ".py",
   "mimetype": "text/x-python",
   "name": "python",
   "nbconvert_exporter": "python",
   "pygments_lexer": "ipython3",
   "version": "3.9.9"
  },
  "toc": {
   "base_numbering": 1,
   "nav_menu": {},
   "number_sections": false,
   "sideBar": true,
   "skip_h1_title": false,
   "title_cell": "Table of Contents",
   "title_sidebar": "Contents",
   "toc_cell": false,
   "toc_position": {},
   "toc_section_display": true,
   "toc_window_display": false
  }
 },
 "nbformat": 4,
 "nbformat_minor": 5
}
